{
  "nbformat": 4,
  "nbformat_minor": 0,
  "metadata": {
    "colab": {
      "name": "TareaA2DADT_JuegoDeLaVida.ipynb",
      "provenance": [],
      "authorship_tag": "ABX9TyPkkrFxzN7FfTZequuSlmSn",
      "include_colab_link": true
    },
    "kernelspec": {
      "name": "python3",
      "display_name": "Python 3"
    },
    "language_info": {
      "name": "python"
    }
  },
  "cells": [
    {
      "cell_type": "markdown",
      "metadata": {
        "id": "view-in-github",
        "colab_type": "text"
      },
      "source": [
        "<a href=\"https://colab.research.google.com/github/CarlosGarMon/Cuestionario_Control_6/blob/main/TareaA2DADT_JuegoDeLaVida.ipynb\" target=\"_parent\"><img src=\"https://colab.research.google.com/assets/colab-badge.svg\" alt=\"Open In Colab\"/></a>"
      ]
    },
    {
      "cell_type": "code",
      "metadata": {
        "id": "ls5G7L_iTpUX"
      },
      "source": [
        "class Array2DADT:\n",
        "    def __init__( self, ren, col ):\n",
        "        self.__data = [ [ 0 for y in range (col) ] for x in range(ren) ]\n",
        "\n",
        "    def clear( self, dato ):\n",
        "        self.__data = [ [ dato for y in range(self.get_col_size()) ] for x in range(self.get_row_size()) ]\n",
        "\n",
        "    def get_row_size( self ):\n",
        "        return len( self.__data )\n",
        "    \n",
        "    def get_col_size( self ):\n",
        "        return len( self.__data[0] )\n",
        "\n",
        "    def set_item( self, ren, col, dato ):\n",
        "        self.__data[ren][col] = dato\n",
        "\n",
        "    def get_item( self, ren, col ):\n",
        "        return self.__data[ren][col]\n",
        "\n",
        "    def to_string( self ):\n",
        "        cadena = \"\"\n",
        "        for renglon in self.__data:\n",
        "            cadena = cadena + \"| \"\n",
        "            for dato in renglon:\n",
        "                cadena = cadena + str(dato) + \" | \" \n",
        "            cadena = cadena + \"\\n\"\n",
        "        return cadena"
      ],
      "execution_count": 1,
      "outputs": []
    },
    {
      "cell_type": "code",
      "metadata": {
        "id": "SZAkqIqJTtho"
      },
      "source": [
        "class JuegoDeLaVida:\n",
        "    def __init__( self, ruta_archivo  ):    \n",
        "        self.rens = None\n",
        "        self.cols = None\n",
        "        self.tablero = None\n",
        "        self.generaciones = None \n",
        "        self.read_game_data( ruta_archivo )\n",
        "\n",
        "    def read_game_data( self, archivo ):\n",
        "        archivo = open(archivo, 'rt')\n",
        "        lineas = archivo.readlines()\n",
        "\n",
        "        for index in range( len(lineas) ):\n",
        "            lineas[index] = lineas[index].strip() #Quita espacios y saltos de linea\n",
        "        self.rens = int( lineas[0] )\n",
        "        self.cols = int( lineas[1] )\n",
        "        self.tablero = Array2DADT( self.rens, self.cols )\n",
        "        r = 0\n",
        "        c = 0\n",
        "\n",
        "        for index in range( 2, 2 + self.rens, 1 ):\n",
        "            c = 0\n",
        "            for dato in lineas[ index ].split(','):\n",
        "                self.tablero.set_item(r, c, int(dato) )\n",
        "                c += 1\n",
        "            r += 1\n",
        "\n",
        "        self.generaciones = int( lineas[-1] ) \n",
        "        \n",
        "        print(self.tablero.to_string())\n",
        "        print(f\"No. de Generaciones: {self.generaciones}\")\n",
        "\n",
        "    def get_vecinos( self , r , c):\n",
        "        vecinos = []\n",
        "        for ren in range( r-1 , r+2 , 1 ):\n",
        "            for col in range(c-1 , c+2 , 1):\n",
        "                if ren < 0 or ren >= self.tablero.get_row_size() or col < 0 or col >= self.tablero.get_col_size() or (ren==r and col==c):\n",
        "                    pass\n",
        "                else:\n",
        "                    vecinos.append((ren,col))\n",
        "        return vecinos\n",
        "    \n",
        "    def get_vecinos_vivos( self, r, c ):\n",
        "        vecinos = self.get_vecinos(r, c) \n",
        "        vivos = 0\n",
        "        for par in vecinos:\n",
        "            if self.tablero.get_item( par[0], par[1] ) == 1:\n",
        "                vivos += 1\n",
        "            return vivos\n",
        "            \n",
        "\n",
        "    def calcular_siguiente( self ):\n",
        "        nueva_gen = Array2DADT( self.rens, self.cols )\n",
        "        #Aplicar las 4 reglas a cada celula y el resultado lo ponemos en la nueva generacipon\n",
        "        for ren in range( self.rens ):\n",
        "            for col in range( self.cols ):\n",
        "                print(f\"{ren}{col} --> {self.get_vecinos_vivos(ren,col)}\")\n",
        "\n",
        "        self.tablero = nueva_gen\n",
        "\n",
        "\n",
        "\n"
      ],
      "execution_count": 93,
      "outputs": []
    },
    {
      "cell_type": "code",
      "metadata": {
        "colab": {
          "base_uri": "https://localhost:8080/"
        },
        "id": "sLHYKRzQUelB",
        "outputId": "a5f4a7aa-33e3-4b7d-9fdf-806f52dd2c16"
      },
      "source": [
        "juego = JuegoDeLaVida( \"entrada2.txt\" ) \n",
        "juego.get_vecinos(0,0)\n",
        "juego.calcular_siguiente()"
      ],
      "execution_count": 94,
      "outputs": [
        {
          "output_type": "stream",
          "name": "stdout",
          "text": [
            "| 0 | 0 | 0 | 0 | 0 | 0 | 0 | \n",
            "| 0 | 0 | 1 | 0 | 0 | 0 | 0 | \n",
            "| 0 | 1 | 1 | 1 | 0 | 0 | 0 | \n",
            "| 0 | 0 | 0 | 0 | 0 | 0 | 0 | \n",
            "| 0 | 0 | 0 | 0 | 1 | 0 | 0 | \n",
            "| 0 | 0 | 0 | 1 | 0 | 1 | 0 | \n",
            "| 0 | 0 | 0 | 0 | 0 | 0 | 0 | \n",
            "\n",
            "No. de Generaciones: 10\n",
            "00 --> 0\n",
            "01 --> 0\n",
            "02 --> 0\n",
            "03 --> 0\n",
            "04 --> 0\n",
            "05 --> 0\n",
            "06 --> 0\n",
            "10 --> 0\n",
            "11 --> 0\n",
            "12 --> 0\n",
            "13 --> 0\n",
            "14 --> 0\n",
            "15 --> 0\n",
            "16 --> 0\n",
            "20 --> 0\n",
            "21 --> 0\n",
            "22 --> 0\n",
            "23 --> 1\n",
            "24 --> 0\n",
            "25 --> 0\n",
            "26 --> 0\n",
            "30 --> 0\n",
            "31 --> 0\n",
            "32 --> 1\n",
            "33 --> 1\n",
            "34 --> 1\n",
            "35 --> 0\n",
            "36 --> 0\n",
            "40 --> 0\n",
            "41 --> 0\n",
            "42 --> 0\n",
            "43 --> 0\n",
            "44 --> 0\n",
            "45 --> 0\n",
            "46 --> 0\n",
            "50 --> 0\n",
            "51 --> 0\n",
            "52 --> 0\n",
            "53 --> 0\n",
            "54 --> 0\n",
            "55 --> 1\n",
            "56 --> 0\n",
            "60 --> 0\n",
            "61 --> 0\n",
            "62 --> 0\n",
            "63 --> 0\n",
            "64 --> 1\n",
            "65 --> 0\n",
            "66 --> 1\n"
          ]
        }
      ]
    }
  ]
}